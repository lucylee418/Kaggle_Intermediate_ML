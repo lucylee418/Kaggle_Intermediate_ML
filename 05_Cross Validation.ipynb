{
 "cells": [
  {
   "cell_type": "markdown",
   "metadata": {},
   "source": [
    "## Cross-Validation"
   ]
  },
  {
   "cell_type": "markdown",
   "metadata": {},
   "source": [
    "* e.g.\n",
    "```python\n",
    "    scores = -1 * cross_val_score(my_pipeline, X, y,\n",
    "                                cv=5,\n",
    "                                scoring='neg_mean_absolute_error')\n",
    "    avg_score = scores.mean()\n",
    "```\n",
    "&nbsp; &nbsp; &nbsp; &nbsp; : scikit-learn considers a high number is better. <br>\n",
    "&nbsp; &nbsp; &nbsp; &nbsp; &nbsp; Using *negatives* here allows them to be consistent with that convention."
   ]
  },
  {
   "cell_type": "markdown",
   "metadata": {},
   "source": [
    "* Format\n",
    "```python\n",
    "    sklearn.model_selection.cross_val_score(estimator, X, y=None, *, groups=None,           \n",
    "                scoring=None, cv=None, n_jobs=None, verbose=0, fit_params=None, \n",
    "                pre_dispatch='2*n_jobs', error_score=nan)\n",
    "```\n",
    "* estimator : The object to use to fit the data.\n",
    "* More Scoring options : https://scikit-learn.org/stable/modules/model_evaluation.html\n",
    "* cv : int. Determines the cross-validation splitting strategy.\n"
   ]
  },
  {
   "cell_type": "markdown",
   "metadata": {},
   "source": [
    "## Exercise Notes"
   ]
  },
  {
   "cell_type": "markdown",
   "metadata": {},
   "source": [
    "* A function that reports the average (w/ cv=3) MAE of a machine learning pipeline.\n",
    "```python\n",
    "        def get_score(n_estimators):    # n_estimators : # of trees in random forest\n",
    "            my_pipeline = Pipeline(steps=[\n",
    "                ('preprocessor', SimpleImputer()),\n",
    "                ('model', RandomForestRegressor(n_estimators, random_state=0))])\n",
    "                \n",
    "            scores = -1 * cross_val_score(my_pipeline, X, y, cv=3,\n",
    "                                        scoring='neg_mean_absolute_error')\n",
    "            return scores.mean()\n",
    "```"
   ]
  },
  {
   "cell_type": "markdown",
   "metadata": {},
   "source": [
    "* Stores the mean scores corresponding to 50, 100, ..., 350, 400 trees in a dictionary.\n",
    "```python\n",
    "    results = {i:get_score(i) for i in range(50, 401, 50)}\n",
    "```"
   ]
  }
 ],
 "metadata": {
  "language_info": {
   "name": "python"
  },
  "orig_nbformat": 4
 },
 "nbformat": 4,
 "nbformat_minor": 2
}
