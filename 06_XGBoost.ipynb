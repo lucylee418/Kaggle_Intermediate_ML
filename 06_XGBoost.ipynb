{
 "cells": [
  {
   "cell_type": "markdown",
   "metadata": {},
   "source": [
    "## XGBoost (extreme gradient boosting)"
   ]
  },
  {
   "cell_type": "markdown",
   "metadata": {},
   "source": [
    "### Gradient Boosting"
   ]
  },
  {
   "cell_type": "markdown",
   "metadata": {},
   "source": [
    ": goes through cycles to iteratively add models into an ensemble.<br>\n",
    "&nbsp; It begins by initializing the ensemble with a single model.<br>\n",
    "&nbsp; Then, we start the cycle:<br>\n",
    "* Use the current ensemble to generate predictions for each observation in the dataset. To make a prediction, we add the predictions from all models in the ensemble and calculate a loss function.\n",
    "* Use the loss function to fit a new model that will be added to the ensemble. Specifically, we determine model parameters so that adding this new model to the ensemble will reduce the loss.\n",
    "* Add the new model to ensemble.\n",
    "* Repeat!"
   ]
  },
  {
   "cell_type": "markdown",
   "metadata": {},
   "source": [
    "```python\n",
    "    # cf) n_estimators : the number of models that we include in the ensemble\n",
    "    # cf) learning_rate : multiply the predictions from each model by the learning rate before adding them in. (each tree we add to the ensemble helps us less. So, we can set a higher value for n_estimators without overfitting.)\n",
    "    # cf) n_jobs : (On larger datasets) equal to the number of cores on your machine.\n",
    "    # cf) early_stopping_rounds : the number of rounds of straight deterioration before stopping\n",
    "    # cf) eval_set parameter : to calculate the validation scores\n",
    "    # cf) verbose : writes the evaluation metric measured on the validation set to standard erorr\n",
    "\n",
    "    from xgboost import XGBRegressor\n",
    "\n",
    "    my_model = XGBRegressor(n_estimators=1000, learning_rate=0.05, n_jobs=4)\n",
    "    my_model.fit(X_train, y_train, \n",
    "                early_stopping_rounds=5, \n",
    "                eval_set=[(X_valid, y_valid)],\n",
    "                verbose=False)\n",
    "```"
   ]
  }
 ],
 "metadata": {
  "language_info": {
   "name": "python"
  },
  "orig_nbformat": 4
 },
 "nbformat": 4,
 "nbformat_minor": 2
}
