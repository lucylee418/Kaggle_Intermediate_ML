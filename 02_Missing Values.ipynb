{
 "cells": [
  {
   "cell_type": "markdown",
   "metadata": {},
   "source": [
    "## Missing Values"
   ]
  },
  {
   "cell_type": "markdown",
   "metadata": {},
   "source": [
    "### Option 1. Drop Columns with Missing Values"
   ]
  },
  {
   "cell_type": "markdown",
   "metadata": {},
   "source": [
    "* drop columns with missing values.\n",
    "* model loses access to a lot of (potentially useful) information with this approach."
   ]
  },
  {
   "cell_type": "markdown",
   "metadata": {},
   "source": [
    "```python\n",
    "    # Get names of columns with missing values\n",
    "    # cf) any() : returns True if 'any' item in an iterable is true.\n",
    "    cols_with_missing = [col for col in X_train.columns\n",
    "                    if X_train[col].isnull().any()]\n",
    "\n",
    "    # Drop columns in training and validation data\n",
    "    # cf) axis=0 : rows\n",
    "    reduced_X_train = X_train.drop(cols_with_missing, axis=1)\n",
    "    reduced_X_valid = X_valid.drop(cols_with_missing, axis=1)\n",
    "```"
   ]
  },
  {
   "cell_type": "markdown",
   "metadata": {},
   "source": [
    "### Option 2. Imputation"
   ]
  },
  {
   "cell_type": "markdown",
   "metadata": {},
   "source": [
    "* fill in the missing values with some number.\n",
    "* The imputed value won't be exactly right in most cases, but it usually leads to more accurate models than you would get from dropping the column entirely."
   ]
  },
  {
   "cell_type": "markdown",
   "metadata": {},
   "source": [
    "```python\n",
    "    from sklearn.impute import SimpleImputer\n",
    "\n",
    "    # Imputation\n",
    "    # cf) SimpleImputer() : Imputation transformer for completing missing value. (default=’mean’)\n",
    "    # cf) Fit the transform to the training data, and then use the fitted transform to impute the values in the validation data.\n",
    "    my_imputer = SimpleImputer()\n",
    "    imputed_X_train = pd.DataFrame(my_imputer.fit_transform(X_train))\n",
    "    imputed_X_valid = pd.DataFrame(my_imputer.transform(X_valid))\n",
    "\n",
    "    # Imputation removed column names; put them back\n",
    "    imputed_X_train.columns = X_train.columns\n",
    "    imputed_X_valid.columns = X_valid.columns\n",
    "```"
   ]
  },
  {
   "cell_type": "markdown",
   "metadata": {},
   "source": [
    "### Option 3. Advanced Imputation"
   ]
  },
  {
   "cell_type": "markdown",
   "metadata": {},
   "source": [
    "* impute the missing values as before. \n",
    "* Additionally, for each column with missing entries in the original dataset, we add a new column that shows the location of the imputed entries.\n",
    "* In some cases, this will meaningfully improve results. In other cases, it doesn't help at all.<br>\n",
    "<br>\n",
    "<img src=\"02_imputation.png\" alt=\"title\" width=\"300\"/>"
   ]
  },
  {
   "cell_type": "markdown",
   "metadata": {},
   "source": [
    "```python\n",
    "    # Make copy to avoid changing original data (when imputing)\n",
    "    X_train_plus = X_train.copy()\n",
    "    X_valid_plus = X_valid.copy()\n",
    "\n",
    "    # Make new columns indicating what will be imputed\n",
    "    for col in cols_with_missing:\n",
    "        X_train_plus[col + '_was_missing'] = X_train_plus[col].isnull()\n",
    "        X_valid_plus[col + '_was_missing'] = X_valid_plus[col].isnull()\n",
    "\n",
    "    # Imputation\n",
    "    my_imputer = SimpleImputer()\n",
    "    imputed_X_train_plus = pd.DataFrame(my_imputer.fit_transform(X_train_plus))\n",
    "    imputed_X_valid_plus = pd.DataFrame(my_imputer.transform(X_valid_plus))\n",
    "\n",
    "    # Imputation removed column names; put them back\n",
    "    imputed_X_train_plus.columns = X_train_plus.columns\n",
    "    imputed_X_valid_plus.columns = X_valid_plus.columns\n",
    "```"
   ]
  },
  {
   "cell_type": "markdown",
   "metadata": {},
   "source": [
    "## Excerise Notes"
   ]
  },
  {
   "cell_type": "markdown",
   "metadata": {},
   "source": [
    "* Setup Target and Features\n",
    "```python\n",
    "    # Remove rows with missing target\n",
    "    X_full.dropna(axis=0, subset=['SalePrice'], inplace=True)   \n",
    "    # separate target from predictors\n",
    "    y = X_full.SalePrice    \n",
    "    X_full.drop(['SalePrice'], axis=1, inplace=True)\n",
    "```"
   ]
  },
  {
   "cell_type": "markdown",
   "metadata": {},
   "source": [
    "* Number of missing values in each column of training data\n",
    "```python\n",
    "    missing_val_count_by_column = (X_train.isnull().sum())\n",
    "    print(missing_val_count_by_column[missing_val_count_by_column > 0])\n",
    "```"
   ]
  },
  {
   "cell_type": "markdown",
   "metadata": {},
   "source": [
    "* Computing MAE\n",
    "```python\n",
    "    from sklearn.metrics import mean_absolute_error\n",
    "    mean_absolute_error(a, b)\n",
    "```"
   ]
  },
  {
   "cell_type": "markdown",
   "metadata": {},
   "source": []
  }
 ],
 "metadata": {
  "language_info": {
   "name": "python"
  },
  "orig_nbformat": 4
 },
 "nbformat": 4,
 "nbformat_minor": 2
}
